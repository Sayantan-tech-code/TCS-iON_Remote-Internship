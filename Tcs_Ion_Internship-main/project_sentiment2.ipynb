{
 "cells": [
  {
   "cell_type": "code",
   "execution_count": 6,
   "metadata": {},
   "outputs": [],
   "source": [
    "import numpy as np\n",
    "import pandas as pd\n",
    "import pickle"
   ]
  },
  {
   "cell_type": "code",
   "execution_count": 7,
   "metadata": {},
   "outputs": [
    {
     "data": {
      "text/html": [
       "<div>\n",
       "<style scoped>\n",
       "    .dataframe tbody tr th:only-of-type {\n",
       "        vertical-align: middle;\n",
       "    }\n",
       "\n",
       "    .dataframe tbody tr th {\n",
       "        vertical-align: top;\n",
       "    }\n",
       "\n",
       "    .dataframe thead th {\n",
       "        text-align: right;\n",
       "    }\n",
       "</style>\n",
       "<table border=\"1\" class=\"dataframe\">\n",
       "  <thead>\n",
       "    <tr style=\"text-align: right;\">\n",
       "      <th></th>\n",
       "      <th>text</th>\n",
       "      <th>label</th>\n",
       "    </tr>\n",
       "  </thead>\n",
       "  <tbody>\n",
       "    <tr>\n",
       "      <th>0</th>\n",
       "      <td>Just got back from seeing @GaryDelaney in Burs...</td>\n",
       "      <td>joy</td>\n",
       "    </tr>\n",
       "    <tr>\n",
       "      <th>1</th>\n",
       "      <td>Oh dear an evening of absolute hilarity I don'...</td>\n",
       "      <td>joy</td>\n",
       "    </tr>\n",
       "    <tr>\n",
       "      <th>2</th>\n",
       "      <td>Been waiting all week for this game ❤️❤️❤️ #ch...</td>\n",
       "      <td>joy</td>\n",
       "    </tr>\n",
       "  </tbody>\n",
       "</table>\n",
       "</div>"
      ],
      "text/plain": [
       "                                                text label\n",
       "0  Just got back from seeing @GaryDelaney in Burs...   joy\n",
       "1  Oh dear an evening of absolute hilarity I don'...   joy\n",
       "2  Been waiting all week for this game ❤️❤️❤️ #ch...   joy"
      ]
     },
     "execution_count": 7,
     "metadata": {},
     "output_type": "execute_result"
    }
   ],
   "source": [
    "dataset1=pd.read_csv(\"emotion-labels-train.csv\")\n",
    "dataset1.head(3)"
   ]
  },
  {
   "cell_type": "code",
   "execution_count": 8,
   "metadata": {},
   "outputs": [
    {
     "data": {
      "text/html": [
       "<div>\n",
       "<style scoped>\n",
       "    .dataframe tbody tr th:only-of-type {\n",
       "        vertical-align: middle;\n",
       "    }\n",
       "\n",
       "    .dataframe tbody tr th {\n",
       "        vertical-align: top;\n",
       "    }\n",
       "\n",
       "    .dataframe thead th {\n",
       "        text-align: right;\n",
       "    }\n",
       "</style>\n",
       "<table border=\"1\" class=\"dataframe\">\n",
       "  <thead>\n",
       "    <tr style=\"text-align: right;\">\n",
       "      <th></th>\n",
       "      <th>text</th>\n",
       "      <th>label</th>\n",
       "    </tr>\n",
       "  </thead>\n",
       "  <tbody>\n",
       "    <tr>\n",
       "      <th>0</th>\n",
       "      <td>You must be knowing #blithe means (adj.)  Happ...</td>\n",
       "      <td>joy</td>\n",
       "    </tr>\n",
       "    <tr>\n",
       "      <th>1</th>\n",
       "      <td>Old saying 'A #smile shared is one gained for ...</td>\n",
       "      <td>joy</td>\n",
       "    </tr>\n",
       "    <tr>\n",
       "      <th>2</th>\n",
       "      <td>Bridget Jones' Baby was bloody hilarious 😅 #Br...</td>\n",
       "      <td>joy</td>\n",
       "    </tr>\n",
       "  </tbody>\n",
       "</table>\n",
       "</div>"
      ],
      "text/plain": [
       "                                                text label\n",
       "0  You must be knowing #blithe means (adj.)  Happ...   joy\n",
       "1  Old saying 'A #smile shared is one gained for ...   joy\n",
       "2  Bridget Jones' Baby was bloody hilarious 😅 #Br...   joy"
      ]
     },
     "execution_count": 8,
     "metadata": {},
     "output_type": "execute_result"
    }
   ],
   "source": [
    "dataset2=pd.read_csv(\"emotion-labels-test.csv\")\n",
    "dataset2.head(3)"
   ]
  },
  {
   "cell_type": "code",
   "execution_count": 9,
   "metadata": {},
   "outputs": [
    {
     "data": {
      "text/plain": [
       "text     0\n",
       "label    0\n",
       "dtype: int64"
      ]
     },
     "execution_count": 9,
     "metadata": {},
     "output_type": "execute_result"
    }
   ],
   "source": [
    "dataset1.isna().sum()"
   ]
  },
  {
   "cell_type": "code",
   "execution_count": 10,
   "metadata": {},
   "outputs": [
    {
     "data": {
      "text/plain": [
       "text     0\n",
       "label    0\n",
       "dtype: int64"
      ]
     },
     "execution_count": 10,
     "metadata": {},
     "output_type": "execute_result"
    }
   ],
   "source": [
    "dataset2.isna().sum()"
   ]
  },
  {
   "cell_type": "code",
   "execution_count": 11,
   "metadata": {},
   "outputs": [],
   "source": [
    "train=pd.concat([dataset1,dataset2],axis=0).reset_index(drop=True)"
   ]
  },
  {
   "cell_type": "code",
   "execution_count": 12,
   "metadata": {},
   "outputs": [
    {
     "data": {
      "text/html": [
       "<div>\n",
       "<style scoped>\n",
       "    .dataframe tbody tr th:only-of-type {\n",
       "        vertical-align: middle;\n",
       "    }\n",
       "\n",
       "    .dataframe tbody tr th {\n",
       "        vertical-align: top;\n",
       "    }\n",
       "\n",
       "    .dataframe thead th {\n",
       "        text-align: right;\n",
       "    }\n",
       "</style>\n",
       "<table border=\"1\" class=\"dataframe\">\n",
       "  <thead>\n",
       "    <tr style=\"text-align: right;\">\n",
       "      <th></th>\n",
       "      <th>text</th>\n",
       "      <th>label</th>\n",
       "    </tr>\n",
       "  </thead>\n",
       "  <tbody>\n",
       "    <tr>\n",
       "      <th>0</th>\n",
       "      <td>Just got back from seeing @GaryDelaney in Burs...</td>\n",
       "      <td>joy</td>\n",
       "    </tr>\n",
       "    <tr>\n",
       "      <th>1</th>\n",
       "      <td>Oh dear an evening of absolute hilarity I don'...</td>\n",
       "      <td>joy</td>\n",
       "    </tr>\n",
       "    <tr>\n",
       "      <th>2</th>\n",
       "      <td>Been waiting all week for this game ❤️❤️❤️ #ch...</td>\n",
       "      <td>joy</td>\n",
       "    </tr>\n",
       "    <tr>\n",
       "      <th>3</th>\n",
       "      <td>@gardiner_love : Thank you so much, Gloria! Yo...</td>\n",
       "      <td>joy</td>\n",
       "    </tr>\n",
       "    <tr>\n",
       "      <th>4</th>\n",
       "      <td>I feel so blessed to work with the family that...</td>\n",
       "      <td>joy</td>\n",
       "    </tr>\n",
       "    <tr>\n",
       "      <th>...</th>\n",
       "      <td>...</td>\n",
       "      <td>...</td>\n",
       "    </tr>\n",
       "    <tr>\n",
       "      <th>6750</th>\n",
       "      <td>Why does Candice constantly pout #GBBO 💄😒</td>\n",
       "      <td>sadness</td>\n",
       "    </tr>\n",
       "    <tr>\n",
       "      <th>6751</th>\n",
       "      <td>@redBus_in #unhappy with #redbus CC, when I ta...</td>\n",
       "      <td>sadness</td>\n",
       "    </tr>\n",
       "    <tr>\n",
       "      <th>6752</th>\n",
       "      <td>@AceOperative789 no pull him afew weeks ago, s...</td>\n",
       "      <td>sadness</td>\n",
       "    </tr>\n",
       "    <tr>\n",
       "      <th>6753</th>\n",
       "      <td>I'm buying art supplies and I'm debating how s...</td>\n",
       "      <td>sadness</td>\n",
       "    </tr>\n",
       "    <tr>\n",
       "      <th>6754</th>\n",
       "      <td>@sainsburys Could you ask your Chafford Hundre...</td>\n",
       "      <td>sadness</td>\n",
       "    </tr>\n",
       "  </tbody>\n",
       "</table>\n",
       "<p>6755 rows × 2 columns</p>\n",
       "</div>"
      ],
      "text/plain": [
       "                                                   text    label\n",
       "0     Just got back from seeing @GaryDelaney in Burs...      joy\n",
       "1     Oh dear an evening of absolute hilarity I don'...      joy\n",
       "2     Been waiting all week for this game ❤️❤️❤️ #ch...      joy\n",
       "3     @gardiner_love : Thank you so much, Gloria! Yo...      joy\n",
       "4     I feel so blessed to work with the family that...      joy\n",
       "...                                                 ...      ...\n",
       "6750          Why does Candice constantly pout #GBBO 💄😒  sadness\n",
       "6751  @redBus_in #unhappy with #redbus CC, when I ta...  sadness\n",
       "6752  @AceOperative789 no pull him afew weeks ago, s...  sadness\n",
       "6753  I'm buying art supplies and I'm debating how s...  sadness\n",
       "6754  @sainsburys Could you ask your Chafford Hundre...  sadness\n",
       "\n",
       "[6755 rows x 2 columns]"
      ]
     },
     "execution_count": 12,
     "metadata": {},
     "output_type": "execute_result"
    }
   ],
   "source": [
    "train"
   ]
  },
  {
   "cell_type": "code",
   "execution_count": 13,
   "metadata": {},
   "outputs": [],
   "source": [
    "train.to_csv(\"emotion_dataset.csv\",index=False)"
   ]
  },
  {
   "cell_type": "code",
   "execution_count": 14,
   "metadata": {},
   "outputs": [
    {
     "data": {
      "text/plain": [
       "array(['joy', 'fear', 'anger', 'sadness'], dtype=object)"
      ]
     },
     "execution_count": 14,
     "metadata": {},
     "output_type": "execute_result"
    }
   ],
   "source": [
    "train[\"label\"].unique()"
   ]
  },
  {
   "cell_type": "code",
   "execution_count": 15,
   "metadata": {},
   "outputs": [],
   "source": [
    "from sklearn.preprocessing import LabelEncoder\n",
    "encoder=LabelEncoder()\n",
    "train[\"label\"]=encoder.fit_transform(train[\"label\"])"
   ]
  },
  {
   "cell_type": "code",
   "execution_count": 16,
   "metadata": {},
   "outputs": [],
   "source": [
    "import re\n",
    "from nltk.corpus import stopwords\n",
    "from nltk.stem.porter import PorterStemmer"
   ]
  },
  {
   "cell_type": "code",
   "execution_count": 17,
   "metadata": {},
   "outputs": [],
   "source": [
    "corpus=[]\n",
    "\n",
    "for i in range(len(train)):\n",
    "    sentiment=re.sub(\"[^a-zA-Z]\",\" \",train[\"text\"][i])\n",
    "    sentiment=sentiment.lower()\n",
    "    sentiment=sentiment.split()\n",
    "    ps=PorterStemmer()\n",
    "    all_stopwords=stopwords.words(\"english\")\n",
    "    all_stopwords.remove(\"not\")\n",
    "    sentiment=[ps.stem(word) for word in sentiment if not word in set(all_stopwords)]\n",
    "    sentiment=' '.join(sentiment)\n",
    "    corpus.append(sentiment)"
   ]
  },
  {
   "cell_type": "code",
   "execution_count": 18,
   "metadata": {},
   "outputs": [],
   "source": [
    "from sklearn.feature_extraction.text import CountVectorizer\n",
    "cv=CountVectorizer(max_features=5000)\n",
    "x=cv.fit_transform(corpus).toarray()\n",
    "y=train[\"label\"].values"
   ]
  },
  {
   "cell_type": "code",
   "execution_count": 19,
   "metadata": {},
   "outputs": [],
   "source": [
    "from sklearn.model_selection import train_test_split\n",
    "x_train,x_test,y_train,y_test=train_test_split(x,y,test_size=0.1,random_state=42)"
   ]
  },
  {
   "cell_type": "code",
   "execution_count": 20,
   "metadata": {},
   "outputs": [
    {
     "data": {
      "text/plain": [
       "(6079, 5000)"
      ]
     },
     "execution_count": 20,
     "metadata": {},
     "output_type": "execute_result"
    }
   ],
   "source": [
    "x_train.shape"
   ]
  },
  {
   "cell_type": "code",
   "execution_count": 21,
   "metadata": {},
   "outputs": [
    {
     "data": {
      "text/plain": [
       "(676, 5000)"
      ]
     },
     "execution_count": 21,
     "metadata": {},
     "output_type": "execute_result"
    }
   ],
   "source": [
    "x_test.shape"
   ]
  },
  {
   "cell_type": "code",
   "execution_count": 22,
   "metadata": {},
   "outputs": [],
   "source": [
    "from tensorflow.keras.utils import to_categorical\n",
    "\n",
    "y_train=to_categorical(y_train,len(encoder.classes_))\n",
    "y_test=to_categorical(y_test,len(encoder.classes_))"
   ]
  },
  {
   "cell_type": "code",
   "execution_count": 23,
   "metadata": {},
   "outputs": [],
   "source": [
    "from keras.layers import Dense\n",
    "from keras.models import Sequential"
   ]
  },
  {
   "cell_type": "code",
   "execution_count": 24,
   "metadata": {},
   "outputs": [],
   "source": [
    "model=Sequential()\n",
    "model.add(Dense(units=300,activation=\"relu\",input_shape=(5000,)))\n",
    "model.add(Dense(units=300,activation=\"relu\"))\n",
    "model.add(Dense(units=100,activation=\"relu\"))\n",
    "model.add(Dense(units=4,activation=\"softmax\"))"
   ]
  },
  {
   "cell_type": "code",
   "execution_count": null,
   "metadata": {},
   "outputs": [],
   "source": []
  },
  {
   "cell_type": "code",
   "execution_count": 25,
   "metadata": {},
   "outputs": [
    {
     "name": "stdout",
     "output_type": "stream",
     "text": [
      "Epoch 1/20\n",
      "95/95 [==============================] - 4s 16ms/step - loss: 0.8478 - accuracy: 0.6508 - val_loss: 0.4181 - val_accuracy: 0.8609\n",
      "Epoch 2/20\n",
      "95/95 [==============================] - 1s 12ms/step - loss: 0.1921 - accuracy: 0.9383 - val_loss: 0.4475 - val_accuracy: 0.8595\n",
      "Epoch 3/20\n",
      "95/95 [==============================] - 1s 11ms/step - loss: 0.0872 - accuracy: 0.9641 - val_loss: 0.4238 - val_accuracy: 0.8669\n",
      "Epoch 4/20\n",
      "95/95 [==============================] - 1s 12ms/step - loss: 0.0631 - accuracy: 0.9689 - val_loss: 0.4583 - val_accuracy: 0.8713\n",
      "Epoch 5/20\n",
      "95/95 [==============================] - 1s 12ms/step - loss: 0.0571 - accuracy: 0.9661 - val_loss: 0.5373 - val_accuracy: 0.8565\n",
      "Epoch 6/20\n",
      "95/95 [==============================] - 1s 12ms/step - loss: 0.0468 - accuracy: 0.9702 - val_loss: 0.5286 - val_accuracy: 0.8772\n",
      "Epoch 7/20\n",
      "95/95 [==============================] - 1s 11ms/step - loss: 0.0429 - accuracy: 0.9722 - val_loss: 0.6139 - val_accuracy: 0.8609\n",
      "Epoch 8/20\n",
      "95/95 [==============================] - 1s 12ms/step - loss: 0.0425 - accuracy: 0.9719 - val_loss: 0.6108 - val_accuracy: 0.8669\n",
      "Epoch 9/20\n",
      "95/95 [==============================] - 1s 12ms/step - loss: 0.0412 - accuracy: 0.9715 - val_loss: 0.6419 - val_accuracy: 0.8580\n",
      "Epoch 10/20\n",
      "95/95 [==============================] - 1s 12ms/step - loss: 0.0406 - accuracy: 0.9734 - val_loss: 0.5910 - val_accuracy: 0.8743\n",
      "Epoch 11/20\n",
      "95/95 [==============================] - 1s 13ms/step - loss: 0.0399 - accuracy: 0.9710 - val_loss: 0.6232 - val_accuracy: 0.8624\n",
      "Epoch 12/20\n",
      "95/95 [==============================] - 1s 12ms/step - loss: 0.0381 - accuracy: 0.9745 - val_loss: 0.6780 - val_accuracy: 0.8550\n",
      "Epoch 13/20\n",
      "95/95 [==============================] - 1s 12ms/step - loss: 0.0386 - accuracy: 0.9715 - val_loss: 0.6883 - val_accuracy: 0.8580\n",
      "Epoch 14/20\n",
      "95/95 [==============================] - 1s 12ms/step - loss: 0.0385 - accuracy: 0.9725 - val_loss: 0.7124 - val_accuracy: 0.8506\n",
      "Epoch 15/20\n",
      "95/95 [==============================] - 1s 12ms/step - loss: 0.0380 - accuracy: 0.9750 - val_loss: 0.6962 - val_accuracy: 0.8654\n",
      "Epoch 16/20\n",
      "95/95 [==============================] - 1s 13ms/step - loss: 0.0386 - accuracy: 0.9757 - val_loss: 0.6883 - val_accuracy: 0.8476\n",
      "Epoch 17/20\n",
      "95/95 [==============================] - 1s 13ms/step - loss: 0.0377 - accuracy: 0.9701 - val_loss: 0.7426 - val_accuracy: 0.8624\n",
      "Epoch 18/20\n",
      "95/95 [==============================] - 1s 13ms/step - loss: 0.0368 - accuracy: 0.9745 - val_loss: 0.7635 - val_accuracy: 0.8609\n",
      "Epoch 19/20\n",
      "95/95 [==============================] - 1s 13ms/step - loss: 0.0369 - accuracy: 0.9747 - val_loss: 0.7801 - val_accuracy: 0.8521\n",
      "Epoch 20/20\n",
      "95/95 [==============================] - 1s 12ms/step - loss: 0.0385 - accuracy: 0.9732 - val_loss: 0.7396 - val_accuracy: 0.8639\n"
     ]
    },
    {
     "data": {
      "text/plain": [
       "<keras.callbacks.History at 0x2d2003a0430>"
      ]
     },
     "execution_count": 25,
     "metadata": {},
     "output_type": "execute_result"
    }
   ],
   "source": [
    "model.compile(optimizer=\"adam\",loss=\"categorical_crossentropy\",metrics=[\"accuracy\"])\n",
    "model.fit(x_train,y_train,validation_data=(x_test,y_test),epochs=20,batch_size=64)"
   ]
  },
  {
   "cell_type": "code",
   "execution_count": 39,
   "metadata": {},
   "outputs": [
    {
     "name": "stdout",
     "output_type": "stream",
     "text": [
      "Model: \"sequential\"\n",
      "_________________________________________________________________\n",
      "Layer (type)                 Output Shape              Param #   \n",
      "=================================================================\n",
      "dense (Dense)                (None, 300)               1500300   \n",
      "_________________________________________________________________\n",
      "dense_1 (Dense)              (None, 300)               90300     \n",
      "_________________________________________________________________\n",
      "dense_2 (Dense)              (None, 100)               30100     \n",
      "_________________________________________________________________\n",
      "dense_3 (Dense)              (None, 4)                 404       \n",
      "=================================================================\n",
      "Total params: 1,621,104\n",
      "Trainable params: 1,621,104\n",
      "Non-trainable params: 0\n",
      "_________________________________________________________________\n"
     ]
    }
   ],
   "source": [
    "model.summary()"
   ]
  },
  {
   "cell_type": "markdown",
   "metadata": {},
   "source": [
    "## Testing Data"
   ]
  },
  {
   "cell_type": "code",
   "execution_count": 26,
   "metadata": {},
   "outputs": [
    {
     "data": {
      "text/html": [
       "<div>\n",
       "<style scoped>\n",
       "    .dataframe tbody tr th:only-of-type {\n",
       "        vertical-align: middle;\n",
       "    }\n",
       "\n",
       "    .dataframe tbody tr th {\n",
       "        vertical-align: top;\n",
       "    }\n",
       "\n",
       "    .dataframe thead th {\n",
       "        text-align: right;\n",
       "    }\n",
       "</style>\n",
       "<table border=\"1\" class=\"dataframe\">\n",
       "  <thead>\n",
       "    <tr style=\"text-align: right;\">\n",
       "      <th></th>\n",
       "      <th>text</th>\n",
       "      <th>label</th>\n",
       "    </tr>\n",
       "  </thead>\n",
       "  <tbody>\n",
       "    <tr>\n",
       "      <th>0</th>\n",
       "      <td>@theclobra lol I thought maybe, couldn't decid...</td>\n",
       "      <td>joy</td>\n",
       "    </tr>\n",
       "    <tr>\n",
       "      <th>1</th>\n",
       "      <td>Nawaz Sharif is getting more funnier than @kap...</td>\n",
       "      <td>joy</td>\n",
       "    </tr>\n",
       "    <tr>\n",
       "      <th>2</th>\n",
       "      <td>Nawaz Sharif is getting more funnier than @kap...</td>\n",
       "      <td>joy</td>\n",
       "    </tr>\n",
       "    <tr>\n",
       "      <th>3</th>\n",
       "      <td>@tomderivan73 😁...I'll just people watch and e...</td>\n",
       "      <td>joy</td>\n",
       "    </tr>\n",
       "  </tbody>\n",
       "</table>\n",
       "</div>"
      ],
      "text/plain": [
       "                                                text label\n",
       "0  @theclobra lol I thought maybe, couldn't decid...   joy\n",
       "1  Nawaz Sharif is getting more funnier than @kap...   joy\n",
       "2  Nawaz Sharif is getting more funnier than @kap...   joy\n",
       "3  @tomderivan73 😁...I'll just people watch and e...   joy"
      ]
     },
     "execution_count": 26,
     "metadata": {},
     "output_type": "execute_result"
    }
   ],
   "source": [
    "test=pd.read_csv(\"emotion-labels-val.csv\")\n",
    "test.head(4)"
   ]
  },
  {
   "cell_type": "code",
   "execution_count": 27,
   "metadata": {},
   "outputs": [
    {
     "data": {
      "text/plain": [
       "text     0\n",
       "label    0\n",
       "dtype: int64"
      ]
     },
     "execution_count": 27,
     "metadata": {},
     "output_type": "execute_result"
    }
   ],
   "source": [
    "test.isna().sum()"
   ]
  },
  {
   "cell_type": "code",
   "execution_count": 28,
   "metadata": {},
   "outputs": [],
   "source": [
    "corpus=[]\n",
    "\n",
    "for i in range(len(test)):\n",
    "    sentiment=re.sub(\"[^a-zA-Z]\",\" \",test[\"text\"][i])\n",
    "    sentiment=sentiment.lower()\n",
    "    sentiment=sentiment.split()\n",
    "    ps=PorterStemmer()\n",
    "    all_stopwords=stopwords.words(\"english\")\n",
    "    all_stopwords.remove(\"not\")\n",
    "    sentiment=[ps.stem(word) for word in sentiment if not word in set(all_stopwords)]\n",
    "    sentiment=' '.join(sentiment)\n",
    "    corpus.append(sentiment)"
   ]
  },
  {
   "cell_type": "code",
   "execution_count": 29,
   "metadata": {},
   "outputs": [],
   "source": [
    "x_test=cv.transform(corpus).toarray()\n",
    "y_test=encoder.transform(test[\"label\"].values)"
   ]
  },
  {
   "cell_type": "code",
   "execution_count": 30,
   "metadata": {},
   "outputs": [],
   "source": [
    "predict=model.predict(x_test)"
   ]
  },
  {
   "cell_type": "code",
   "execution_count": 31,
   "metadata": {},
   "outputs": [],
   "source": [
    "pred=[]\n",
    "\n",
    "for i in range(len(predict)):\n",
    "    pred.append(np.argmax(predict[i]))"
   ]
  },
  {
   "cell_type": "code",
   "execution_count": 32,
   "metadata": {},
   "outputs": [],
   "source": [
    "pred=np.array(pred)"
   ]
  },
  {
   "cell_type": "code",
   "execution_count": 33,
   "metadata": {},
   "outputs": [
    {
     "data": {
      "text/plain": [
       "0.8040345821325648"
      ]
     },
     "execution_count": 33,
     "metadata": {},
     "output_type": "execute_result"
    }
   ],
   "source": [
    "from sklearn.metrics import accuracy_score\n",
    "accuracy_score(y_test,pred)"
   ]
  },
  {
   "cell_type": "code",
   "execution_count": 38,
   "metadata": {},
   "outputs": [
    {
     "data": {
      "text/plain": [
       "array(['sadness'], dtype=object)"
      ]
     },
     "execution_count": 38,
     "metadata": {},
     "output_type": "execute_result"
    }
   ],
   "source": [
    "en=pickle.load(open(\"encoder.pkl\",\"rb\"))\n",
    "en.inverse_transform([3])"
   ]
  },
  {
   "cell_type": "markdown",
   "metadata": {},
   "source": [
    "## Testing Random Data"
   ]
  },
  {
   "cell_type": "code",
   "execution_count": 40,
   "metadata": {},
   "outputs": [],
   "source": [
    "def text_extract(data):\n",
    "    corpus=[]\n",
    "    sentiment=re.sub(\"[^a-zA-Z]\",\" \",data)\n",
    "    sentiment=sentiment.lower()\n",
    "    sentiment=sentiment.split()\n",
    "    ps=PorterStemmer()\n",
    "    all_stopwords=stopwords.words(\"english\")\n",
    "    all_stopwords.remove(\"not\")\n",
    "    sentiment=[ps.stem(word) for word in sentiment if not word in set(all_stopwords)]\n",
    "    sentiment=' '.join(sentiment)\n",
    "    corpus.append(sentiment)\n",
    "    return corpus"
   ]
  },
  {
   "cell_type": "markdown",
   "metadata": {},
   "source": [
    "## Test1"
   ]
  },
  {
   "cell_type": "code",
   "execution_count": 43,
   "metadata": {},
   "outputs": [
    {
     "data": {
      "text/plain": [
       "array(['joy'], dtype=object)"
      ]
     },
     "execution_count": 43,
     "metadata": {},
     "output_type": "execute_result"
    }
   ],
   "source": [
    "data=\"The race advances only by the extra achievements of the individual. You are the individual. ~Charles Towne\\n #optimism #inspire\"\n",
    "\n",
    "corp=text_extract(data)\n",
    "pred=cv.transform(corp).toarray()\n",
    "encoder.inverse_transform([np.argmax(model.predict(pred))])"
   ]
  },
  {
   "cell_type": "markdown",
   "metadata": {},
   "source": [
    "## Test2"
   ]
  },
  {
   "cell_type": "code",
   "execution_count": 44,
   "metadata": {},
   "outputs": [
    {
     "data": {
      "text/plain": [
       "array(['fear'], dtype=object)"
      ]
     },
     "execution_count": 44,
     "metadata": {},
     "output_type": "execute_result"
    }
   ],
   "source": [
    "\n",
    "data=\"@Bwana86 I can fear that someone is always following me everywhere I go. Does that make it true??\"\n",
    "\n",
    "corp=text_extract(data)\n",
    "pred=cv.transform(corp).toarray()\n",
    "encoder.inverse_transform([np.argmax(model.predict(pred))])"
   ]
  },
  {
   "cell_type": "markdown",
   "metadata": {},
   "source": [
    "## Test3"
   ]
  },
  {
   "cell_type": "code",
   "execution_count": 45,
   "metadata": {},
   "outputs": [
    {
     "data": {
      "text/plain": [
       "array(['anger'], dtype=object)"
      ]
     },
     "execution_count": 45,
     "metadata": {},
     "output_type": "execute_result"
    }
   ],
   "source": [
    "data=\"Got a $20 tip from a drunk Uber passenger. Today I get a $25 parking ticket. I'd blame karma but my dumb ass forgot to pay the meter. #rage\"\n",
    "\n",
    "corp=text_extract(data)\n",
    "pred=cv.transform(corp).toarray()\n",
    "encoder.inverse_transform([np.argmax(model.predict(pred))])"
   ]
  },
  {
   "cell_type": "markdown",
   "metadata": {},
   "source": [
    "## Test4"
   ]
  },
  {
   "cell_type": "code",
   "execution_count": 46,
   "metadata": {},
   "outputs": [
    {
     "data": {
      "text/plain": [
       "array(['sadness'], dtype=object)"
      ]
     },
     "execution_count": 46,
     "metadata": {},
     "output_type": "execute_result"
    }
   ],
   "source": [
    "data=\"Very depressing seeing my whole fam packing to go on holiday tomorrow and I'm just staying here ðŸ™ƒ\"\n",
    "\n",
    "corp=text_extract(data)\n",
    "pred=cv.transform(corp).toarray()\n",
    "encoder.inverse_transform([np.argmax(model.predict(pred))])"
   ]
  },
  {
   "cell_type": "code",
   "execution_count": null,
   "metadata": {},
   "outputs": [],
   "source": []
  }
 ],
 "metadata": {
  "interpreter": {
   "hash": "247ab06e135bb35fa78c5eff31b2a9a0050dcb5fb773c2631d2a29ac689eeccb"
  },
  "kernelspec": {
   "display_name": "Python 3.9.7 64-bit",
   "language": "python",
   "name": "python3"
  },
  "language_info": {
   "codemirror_mode": {
    "name": "ipython",
    "version": 3
   },
   "file_extension": ".py",
   "mimetype": "text/x-python",
   "name": "python",
   "nbconvert_exporter": "python",
   "pygments_lexer": "ipython3",
   "version": "3.9.7"
  },
  "orig_nbformat": 4
 },
 "nbformat": 4,
 "nbformat_minor": 2
}
